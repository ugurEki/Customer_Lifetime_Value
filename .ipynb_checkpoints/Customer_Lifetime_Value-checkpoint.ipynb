{
 "cells": [
  {
   "cell_type": "markdown",
   "id": "2524e9f3",
   "metadata": {},
   "source": [
    "# Import libraries"
   ]
  },
  {
   "cell_type": "code",
   "execution_count": 103,
   "id": "788165e0",
   "metadata": {},
   "outputs": [],
   "source": [
    "import pandas as pd\n",
    "import numpy as np\n",
    "import matplotlib.pyplot as plt\n",
    "import seaborn as sns\n",
    "\n",
    "from lifetimes.utils import summary_data_from_transaction_data\n",
    "from lifetimes import BetaGeoFitter\n",
    "from lifetimes.plotting import plot_frequency_recency_matrix\n",
    "from lifetimes.plotting import plot_probability_alive_matrix"
   ]
  },
  {
   "cell_type": "markdown",
   "id": "89699fa4",
   "metadata": {},
   "source": [
    "# Overview"
   ]
  },
  {
   "cell_type": "code",
   "execution_count": 2,
   "id": "70b20f6a",
   "metadata": {},
   "outputs": [
    {
     "data": {
      "text/html": [
       "<div>\n",
       "<style scoped>\n",
       "    .dataframe tbody tr th:only-of-type {\n",
       "        vertical-align: middle;\n",
       "    }\n",
       "\n",
       "    .dataframe tbody tr th {\n",
       "        vertical-align: top;\n",
       "    }\n",
       "\n",
       "    .dataframe thead th {\n",
       "        text-align: right;\n",
       "    }\n",
       "</style>\n",
       "<table border=\"1\" class=\"dataframe\">\n",
       "  <thead>\n",
       "    <tr style=\"text-align: right;\">\n",
       "      <th></th>\n",
       "      <th>InvoiceNo</th>\n",
       "      <th>StockCode</th>\n",
       "      <th>Description</th>\n",
       "      <th>Quantity</th>\n",
       "      <th>InvoiceDate</th>\n",
       "      <th>UnitPrice</th>\n",
       "      <th>CustomerID</th>\n",
       "      <th>Country</th>\n",
       "    </tr>\n",
       "  </thead>\n",
       "  <tbody>\n",
       "    <tr>\n",
       "      <th>0</th>\n",
       "      <td>536365</td>\n",
       "      <td>85123A</td>\n",
       "      <td>WHITE HANGING HEART T-LIGHT HOLDER</td>\n",
       "      <td>6</td>\n",
       "      <td>2010-12-01 08:26:00</td>\n",
       "      <td>2.55</td>\n",
       "      <td>17850.0</td>\n",
       "      <td>United Kingdom</td>\n",
       "    </tr>\n",
       "    <tr>\n",
       "      <th>1</th>\n",
       "      <td>536365</td>\n",
       "      <td>71053</td>\n",
       "      <td>WHITE METAL LANTERN</td>\n",
       "      <td>6</td>\n",
       "      <td>2010-12-01 08:26:00</td>\n",
       "      <td>3.39</td>\n",
       "      <td>17850.0</td>\n",
       "      <td>United Kingdom</td>\n",
       "    </tr>\n",
       "    <tr>\n",
       "      <th>2</th>\n",
       "      <td>536365</td>\n",
       "      <td>84406B</td>\n",
       "      <td>CREAM CUPID HEARTS COAT HANGER</td>\n",
       "      <td>8</td>\n",
       "      <td>2010-12-01 08:26:00</td>\n",
       "      <td>2.75</td>\n",
       "      <td>17850.0</td>\n",
       "      <td>United Kingdom</td>\n",
       "    </tr>\n",
       "    <tr>\n",
       "      <th>3</th>\n",
       "      <td>536365</td>\n",
       "      <td>84029G</td>\n",
       "      <td>KNITTED UNION FLAG HOT WATER BOTTLE</td>\n",
       "      <td>6</td>\n",
       "      <td>2010-12-01 08:26:00</td>\n",
       "      <td>3.39</td>\n",
       "      <td>17850.0</td>\n",
       "      <td>United Kingdom</td>\n",
       "    </tr>\n",
       "    <tr>\n",
       "      <th>4</th>\n",
       "      <td>536365</td>\n",
       "      <td>84029E</td>\n",
       "      <td>RED WOOLLY HOTTIE WHITE HEART.</td>\n",
       "      <td>6</td>\n",
       "      <td>2010-12-01 08:26:00</td>\n",
       "      <td>3.39</td>\n",
       "      <td>17850.0</td>\n",
       "      <td>United Kingdom</td>\n",
       "    </tr>\n",
       "  </tbody>\n",
       "</table>\n",
       "</div>"
      ],
      "text/plain": [
       "  InvoiceNo StockCode                          Description  Quantity  \\\n",
       "0    536365    85123A   WHITE HANGING HEART T-LIGHT HOLDER         6   \n",
       "1    536365     71053                  WHITE METAL LANTERN         6   \n",
       "2    536365    84406B       CREAM CUPID HEARTS COAT HANGER         8   \n",
       "3    536365    84029G  KNITTED UNION FLAG HOT WATER BOTTLE         6   \n",
       "4    536365    84029E       RED WOOLLY HOTTIE WHITE HEART.         6   \n",
       "\n",
       "          InvoiceDate  UnitPrice  CustomerID         Country  \n",
       "0 2010-12-01 08:26:00       2.55     17850.0  United Kingdom  \n",
       "1 2010-12-01 08:26:00       3.39     17850.0  United Kingdom  \n",
       "2 2010-12-01 08:26:00       2.75     17850.0  United Kingdom  \n",
       "3 2010-12-01 08:26:00       3.39     17850.0  United Kingdom  \n",
       "4 2010-12-01 08:26:00       3.39     17850.0  United Kingdom  "
      ]
     },
     "execution_count": 2,
     "metadata": {},
     "output_type": "execute_result"
    }
   ],
   "source": [
    "online_retail = pd.read_excel(\"C:\\\\Users\\\\HP\\\\Desktop\\\\Python exercises\\\\Statistical Analysis\\\\Data Analytics Projects\\\\Customer_Life_Tıme_Value\\\\Data\\Online Retail.xlsx\")\n",
    "\n",
    "online_retail.head()"
   ]
  },
  {
   "cell_type": "code",
   "execution_count": 3,
   "id": "41ecf2da",
   "metadata": {},
   "outputs": [],
   "source": [
    "online = online_retail"
   ]
  },
  {
   "cell_type": "code",
   "execution_count": 4,
   "id": "5a13249e",
   "metadata": {},
   "outputs": [
    {
     "data": {
      "text/plain": [
       "(541909, 8)"
      ]
     },
     "execution_count": 4,
     "metadata": {},
     "output_type": "execute_result"
    }
   ],
   "source": [
    "online.shape"
   ]
  },
  {
   "cell_type": "code",
   "execution_count": 5,
   "id": "4bdfbce8",
   "metadata": {},
   "outputs": [
    {
     "name": "stdout",
     "output_type": "stream",
     "text": [
      "<class 'pandas.core.frame.DataFrame'>\n",
      "RangeIndex: 541909 entries, 0 to 541908\n",
      "Data columns (total 8 columns):\n",
      " #   Column       Non-Null Count   Dtype         \n",
      "---  ------       --------------   -----         \n",
      " 0   InvoiceNo    541909 non-null  object        \n",
      " 1   StockCode    541909 non-null  object        \n",
      " 2   Description  540455 non-null  object        \n",
      " 3   Quantity     541909 non-null  int64         \n",
      " 4   InvoiceDate  541909 non-null  datetime64[ns]\n",
      " 5   UnitPrice    541909 non-null  float64       \n",
      " 6   CustomerID   406829 non-null  float64       \n",
      " 7   Country      541909 non-null  object        \n",
      "dtypes: datetime64[ns](1), float64(2), int64(1), object(4)\n",
      "memory usage: 33.1+ MB\n"
     ]
    }
   ],
   "source": [
    "online.info()"
   ]
  },
  {
   "cell_type": "code",
   "execution_count": 6,
   "id": "bae399f0",
   "metadata": {},
   "outputs": [
    {
     "data": {
      "text/html": [
       "<div>\n",
       "<style scoped>\n",
       "    .dataframe tbody tr th:only-of-type {\n",
       "        vertical-align: middle;\n",
       "    }\n",
       "\n",
       "    .dataframe tbody tr th {\n",
       "        vertical-align: top;\n",
       "    }\n",
       "\n",
       "    .dataframe thead th {\n",
       "        text-align: right;\n",
       "    }\n",
       "</style>\n",
       "<table border=\"1\" class=\"dataframe\">\n",
       "  <thead>\n",
       "    <tr style=\"text-align: right;\">\n",
       "      <th></th>\n",
       "      <th>InvoiceNo</th>\n",
       "      <th>StockCode</th>\n",
       "      <th>Description</th>\n",
       "      <th>Quantity</th>\n",
       "      <th>InvoiceDate</th>\n",
       "      <th>UnitPrice</th>\n",
       "      <th>CustomerID</th>\n",
       "      <th>Country</th>\n",
       "    </tr>\n",
       "  </thead>\n",
       "  <tbody>\n",
       "    <tr>\n",
       "      <th>0</th>\n",
       "      <td>536365</td>\n",
       "      <td>85123A</td>\n",
       "      <td>WHITE HANGING HEART T-LIGHT HOLDER</td>\n",
       "      <td>6</td>\n",
       "      <td>2010-12-01 08:26:00</td>\n",
       "      <td>2.55</td>\n",
       "      <td>17850.0</td>\n",
       "      <td>United Kingdom</td>\n",
       "    </tr>\n",
       "    <tr>\n",
       "      <th>1</th>\n",
       "      <td>536365</td>\n",
       "      <td>71053</td>\n",
       "      <td>WHITE METAL LANTERN</td>\n",
       "      <td>6</td>\n",
       "      <td>2010-12-01 08:26:00</td>\n",
       "      <td>3.39</td>\n",
       "      <td>17850.0</td>\n",
       "      <td>United Kingdom</td>\n",
       "    </tr>\n",
       "    <tr>\n",
       "      <th>2</th>\n",
       "      <td>536365</td>\n",
       "      <td>84406B</td>\n",
       "      <td>CREAM CUPID HEARTS COAT HANGER</td>\n",
       "      <td>8</td>\n",
       "      <td>2010-12-01 08:26:00</td>\n",
       "      <td>2.75</td>\n",
       "      <td>17850.0</td>\n",
       "      <td>United Kingdom</td>\n",
       "    </tr>\n",
       "    <tr>\n",
       "      <th>3</th>\n",
       "      <td>536365</td>\n",
       "      <td>84029G</td>\n",
       "      <td>KNITTED UNION FLAG HOT WATER BOTTLE</td>\n",
       "      <td>6</td>\n",
       "      <td>2010-12-01 08:26:00</td>\n",
       "      <td>3.39</td>\n",
       "      <td>17850.0</td>\n",
       "      <td>United Kingdom</td>\n",
       "    </tr>\n",
       "    <tr>\n",
       "      <th>4</th>\n",
       "      <td>536365</td>\n",
       "      <td>84029E</td>\n",
       "      <td>RED WOOLLY HOTTIE WHITE HEART.</td>\n",
       "      <td>6</td>\n",
       "      <td>2010-12-01 08:26:00</td>\n",
       "      <td>3.39</td>\n",
       "      <td>17850.0</td>\n",
       "      <td>United Kingdom</td>\n",
       "    </tr>\n",
       "  </tbody>\n",
       "</table>\n",
       "</div>"
      ],
      "text/plain": [
       "  InvoiceNo StockCode                          Description  Quantity  \\\n",
       "0    536365    85123A   WHITE HANGING HEART T-LIGHT HOLDER         6   \n",
       "1    536365     71053                  WHITE METAL LANTERN         6   \n",
       "2    536365    84406B       CREAM CUPID HEARTS COAT HANGER         8   \n",
       "3    536365    84029G  KNITTED UNION FLAG HOT WATER BOTTLE         6   \n",
       "4    536365    84029E       RED WOOLLY HOTTIE WHITE HEART.         6   \n",
       "\n",
       "          InvoiceDate  UnitPrice  CustomerID         Country  \n",
       "0 2010-12-01 08:26:00       2.55     17850.0  United Kingdom  \n",
       "1 2010-12-01 08:26:00       3.39     17850.0  United Kingdom  \n",
       "2 2010-12-01 08:26:00       2.75     17850.0  United Kingdom  \n",
       "3 2010-12-01 08:26:00       3.39     17850.0  United Kingdom  \n",
       "4 2010-12-01 08:26:00       3.39     17850.0  United Kingdom  "
      ]
     },
     "execution_count": 6,
     "metadata": {},
     "output_type": "execute_result"
    }
   ],
   "source": [
    "online.head()"
   ]
  },
  {
   "cell_type": "code",
   "execution_count": 7,
   "id": "eb947775",
   "metadata": {},
   "outputs": [
    {
     "data": {
      "text/plain": [
       "InvoiceNo           0\n",
       "StockCode           0\n",
       "Description      1454\n",
       "Quantity            0\n",
       "InvoiceDate         0\n",
       "UnitPrice           0\n",
       "CustomerID     135080\n",
       "Country             0\n",
       "dtype: int64"
      ]
     },
     "execution_count": 7,
     "metadata": {},
     "output_type": "execute_result"
    }
   ],
   "source": [
    "online.isnull().sum()"
   ]
  },
  {
   "cell_type": "code",
   "execution_count": 14,
   "id": "91ed79e8",
   "metadata": {},
   "outputs": [
    {
     "data": {
      "text/html": [
       "<div>\n",
       "<style scoped>\n",
       "    .dataframe tbody tr th:only-of-type {\n",
       "        vertical-align: middle;\n",
       "    }\n",
       "\n",
       "    .dataframe tbody tr th {\n",
       "        vertical-align: top;\n",
       "    }\n",
       "\n",
       "    .dataframe thead th {\n",
       "        text-align: right;\n",
       "    }\n",
       "</style>\n",
       "<table border=\"1\" class=\"dataframe\">\n",
       "  <thead>\n",
       "    <tr style=\"text-align: right;\">\n",
       "      <th></th>\n",
       "      <th>count</th>\n",
       "      <th>mean</th>\n",
       "      <th>std</th>\n",
       "      <th>min</th>\n",
       "      <th>25%</th>\n",
       "      <th>50%</th>\n",
       "      <th>75%</th>\n",
       "      <th>max</th>\n",
       "    </tr>\n",
       "  </thead>\n",
       "  <tbody>\n",
       "    <tr>\n",
       "      <th>Quantity</th>\n",
       "      <td>406829.0</td>\n",
       "      <td>12.061303</td>\n",
       "      <td>248.693370</td>\n",
       "      <td>-80995.0</td>\n",
       "      <td>2.00</td>\n",
       "      <td>5.00</td>\n",
       "      <td>12.00</td>\n",
       "      <td>80995.0</td>\n",
       "    </tr>\n",
       "    <tr>\n",
       "      <th>UnitPrice</th>\n",
       "      <td>406829.0</td>\n",
       "      <td>3.460471</td>\n",
       "      <td>69.315162</td>\n",
       "      <td>0.0</td>\n",
       "      <td>1.25</td>\n",
       "      <td>1.95</td>\n",
       "      <td>3.75</td>\n",
       "      <td>38970.0</td>\n",
       "    </tr>\n",
       "    <tr>\n",
       "      <th>CustomerID</th>\n",
       "      <td>406829.0</td>\n",
       "      <td>15287.690570</td>\n",
       "      <td>1713.600303</td>\n",
       "      <td>12346.0</td>\n",
       "      <td>13953.00</td>\n",
       "      <td>15152.00</td>\n",
       "      <td>16791.00</td>\n",
       "      <td>18287.0</td>\n",
       "    </tr>\n",
       "  </tbody>\n",
       "</table>\n",
       "</div>"
      ],
      "text/plain": [
       "               count          mean          std      min       25%       50%  \\\n",
       "Quantity    406829.0     12.061303   248.693370 -80995.0      2.00      5.00   \n",
       "UnitPrice   406829.0      3.460471    69.315162      0.0      1.25      1.95   \n",
       "CustomerID  406829.0  15287.690570  1713.600303  12346.0  13953.00  15152.00   \n",
       "\n",
       "                 75%      max  \n",
       "Quantity       12.00  80995.0  \n",
       "UnitPrice       3.75  38970.0  \n",
       "CustomerID  16791.00  18287.0  "
      ]
     },
     "execution_count": 14,
     "metadata": {},
     "output_type": "execute_result"
    }
   ],
   "source": [
    "online.describe().T"
   ]
  },
  {
   "cell_type": "code",
   "execution_count": 9,
   "id": "f745f47e",
   "metadata": {},
   "outputs": [],
   "source": [
    "# Remove the time(hour, minute, second) from the InvoiveDate column\n",
    "online[\"InvoiceDate\"] = pd.to_datetime(online[\"InvoiceDate\"], format = \"%m/%d/%Y %H:%M\").dt.date"
   ]
  },
  {
   "cell_type": "code",
   "execution_count": 13,
   "id": "af42fe42",
   "metadata": {},
   "outputs": [],
   "source": [
    "# missing values \"CustomerID\"\n",
    "# we will not remove description missing values because we do not use in the analysis.\n",
    "online = online[pd.notnull(online[\"CustomerID\"])]"
   ]
  },
  {
   "cell_type": "code",
   "execution_count": 17,
   "id": "63bdc7a6",
   "metadata": {},
   "outputs": [],
   "source": [
    "# keep records with non-negative quantity\n",
    "online = online[online[\"Quantity\"] > 0]"
   ]
  },
  {
   "cell_type": "code",
   "execution_count": 20,
   "id": "6e3d7c4a",
   "metadata": {},
   "outputs": [
    {
     "data": {
      "text/html": [
       "<div>\n",
       "<style scoped>\n",
       "    .dataframe tbody tr th:only-of-type {\n",
       "        vertical-align: middle;\n",
       "    }\n",
       "\n",
       "    .dataframe tbody tr th {\n",
       "        vertical-align: top;\n",
       "    }\n",
       "\n",
       "    .dataframe thead th {\n",
       "        text-align: right;\n",
       "    }\n",
       "</style>\n",
       "<table border=\"1\" class=\"dataframe\">\n",
       "  <thead>\n",
       "    <tr style=\"text-align: right;\">\n",
       "      <th></th>\n",
       "      <th>CustomerID</th>\n",
       "      <th>InvoiceDate</th>\n",
       "      <th>Total_Sales</th>\n",
       "    </tr>\n",
       "  </thead>\n",
       "  <tbody>\n",
       "    <tr>\n",
       "      <th>0</th>\n",
       "      <td>17850.0</td>\n",
       "      <td>2010-12-01</td>\n",
       "      <td>15.30</td>\n",
       "    </tr>\n",
       "    <tr>\n",
       "      <th>1</th>\n",
       "      <td>17850.0</td>\n",
       "      <td>2010-12-01</td>\n",
       "      <td>20.34</td>\n",
       "    </tr>\n",
       "    <tr>\n",
       "      <th>2</th>\n",
       "      <td>17850.0</td>\n",
       "      <td>2010-12-01</td>\n",
       "      <td>22.00</td>\n",
       "    </tr>\n",
       "    <tr>\n",
       "      <th>3</th>\n",
       "      <td>17850.0</td>\n",
       "      <td>2010-12-01</td>\n",
       "      <td>20.34</td>\n",
       "    </tr>\n",
       "    <tr>\n",
       "      <th>4</th>\n",
       "      <td>17850.0</td>\n",
       "      <td>2010-12-01</td>\n",
       "      <td>20.34</td>\n",
       "    </tr>\n",
       "  </tbody>\n",
       "</table>\n",
       "</div>"
      ],
      "text/plain": [
       "   CustomerID InvoiceDate  Total_Sales\n",
       "0     17850.0  2010-12-01        15.30\n",
       "1     17850.0  2010-12-01        20.34\n",
       "2     17850.0  2010-12-01        22.00\n",
       "3     17850.0  2010-12-01        20.34\n",
       "4     17850.0  2010-12-01        20.34"
      ]
     },
     "execution_count": 20,
     "metadata": {},
     "output_type": "execute_result"
    }
   ],
   "source": [
    "# add a new column called Total_Sales : quantity x unit price\n",
    "online[\"Total_Sales\"] = online[\"Quantity\"] * online[\"UnitPrice\"]\n",
    "\n",
    "# we use only three columns in the analysis : \"CustomerID\", \"InvoiceDate\", \"Total_Sales\"\n",
    "necessary_columns = [\"CustomerID\", \"InvoiceDate\", \"Total_Sales\"]\n",
    "\n",
    "online = online[necessary_columns]\n",
    "\n",
    "online.head()"
   ]
  },
  {
   "cell_type": "code",
   "execution_count": 43,
   "id": "75f04e07",
   "metadata": {},
   "outputs": [
    {
     "data": {
      "text/html": [
       "<div>\n",
       "<style scoped>\n",
       "    .dataframe tbody tr th:only-of-type {\n",
       "        vertical-align: middle;\n",
       "    }\n",
       "\n",
       "    .dataframe tbody tr th {\n",
       "        vertical-align: top;\n",
       "    }\n",
       "\n",
       "    .dataframe thead th {\n",
       "        text-align: right;\n",
       "    }\n",
       "</style>\n",
       "<table border=\"1\" class=\"dataframe\">\n",
       "  <thead>\n",
       "    <tr style=\"text-align: right;\">\n",
       "      <th></th>\n",
       "      <th>Total_Sales</th>\n",
       "    </tr>\n",
       "    <tr>\n",
       "      <th>CustomerID</th>\n",
       "      <th></th>\n",
       "    </tr>\n",
       "  </thead>\n",
       "  <tbody>\n",
       "    <tr>\n",
       "      <th>14646.0</th>\n",
       "      <td>280206.02</td>\n",
       "    </tr>\n",
       "    <tr>\n",
       "      <th>18102.0</th>\n",
       "      <td>259657.30</td>\n",
       "    </tr>\n",
       "    <tr>\n",
       "      <th>17450.0</th>\n",
       "      <td>194550.79</td>\n",
       "    </tr>\n",
       "    <tr>\n",
       "      <th>16446.0</th>\n",
       "      <td>168472.50</td>\n",
       "    </tr>\n",
       "    <tr>\n",
       "      <th>14911.0</th>\n",
       "      <td>143825.06</td>\n",
       "    </tr>\n",
       "    <tr>\n",
       "      <th>12415.0</th>\n",
       "      <td>124914.53</td>\n",
       "    </tr>\n",
       "    <tr>\n",
       "      <th>14156.0</th>\n",
       "      <td>117379.63</td>\n",
       "    </tr>\n",
       "    <tr>\n",
       "      <th>17511.0</th>\n",
       "      <td>91062.38</td>\n",
       "    </tr>\n",
       "    <tr>\n",
       "      <th>16029.0</th>\n",
       "      <td>81024.84</td>\n",
       "    </tr>\n",
       "    <tr>\n",
       "      <th>12346.0</th>\n",
       "      <td>77183.60</td>\n",
       "    </tr>\n",
       "  </tbody>\n",
       "</table>\n",
       "</div>"
      ],
      "text/plain": [
       "            Total_Sales\n",
       "CustomerID             \n",
       "14646.0       280206.02\n",
       "18102.0       259657.30\n",
       "17450.0       194550.79\n",
       "16446.0       168472.50\n",
       "14911.0       143825.06\n",
       "12415.0       124914.53\n",
       "14156.0       117379.63\n",
       "17511.0        91062.38\n",
       "16029.0        81024.84\n",
       "12346.0        77183.60"
      ]
     },
     "execution_count": 43,
     "metadata": {},
     "output_type": "execute_result"
    }
   ],
   "source": [
    "# Most profit customers.\n",
    "profits = online.groupby(\"CustomerID\").agg(\"sum\").sort_values(by = \"Total_Sales\", ascending = False).iloc[:10]\n",
    "\n",
    "profits"
   ]
  },
  {
   "cell_type": "code",
   "execution_count": 51,
   "id": "0baa3268",
   "metadata": {},
   "outputs": [
    {
     "data": {
      "image/png": "[encoded data removed]",
      "text/plain": [
       "<Figure size 1200x500 with 1 Axes>"
      ]
     },
     "metadata": {},
     "output_type": "display_data"
    }
   ],
   "source": [
    "plt.figure(figsize=(12, 5))\n",
    "sns.barplot(x = profits.index, y = profits[\"Total_Sales\"], data = profits, order = profits.index)\n",
    "plt.title(\"Most Profitable Customers\")\n",
    "plt.show()"
   ]
  },
  {
   "cell_type": "markdown",
   "id": "41d9fdcc",
   "metadata": {},
   "source": [
    "# Develop BG/NBD Model"
   ]
  },
  {
   "cell_type": "code",
   "execution_count": 54,
   "id": "da2f10b3",
   "metadata": {},
   "outputs": [
    {
     "data": {
      "text/html": [
       "<div>\n",
       "<style scoped>\n",
       "    .dataframe tbody tr th:only-of-type {\n",
       "        vertical-align: middle;\n",
       "    }\n",
       "\n",
       "    .dataframe tbody tr th {\n",
       "        vertical-align: top;\n",
       "    }\n",
       "\n",
       "    .dataframe thead th {\n",
       "        text-align: right;\n",
       "    }\n",
       "</style>\n",
       "<table border=\"1\" class=\"dataframe\">\n",
       "  <thead>\n",
       "    <tr style=\"text-align: right;\">\n",
       "      <th></th>\n",
       "      <th>CustomerID</th>\n",
       "      <th>InvoiceDate</th>\n",
       "      <th>Total_Sales</th>\n",
       "    </tr>\n",
       "  </thead>\n",
       "  <tbody>\n",
       "    <tr>\n",
       "      <th>541904</th>\n",
       "      <td>12680.0</td>\n",
       "      <td>2011-12-09</td>\n",
       "      <td>10.20</td>\n",
       "    </tr>\n",
       "    <tr>\n",
       "      <th>541905</th>\n",
       "      <td>12680.0</td>\n",
       "      <td>2011-12-09</td>\n",
       "      <td>12.60</td>\n",
       "    </tr>\n",
       "    <tr>\n",
       "      <th>541906</th>\n",
       "      <td>12680.0</td>\n",
       "      <td>2011-12-09</td>\n",
       "      <td>16.60</td>\n",
       "    </tr>\n",
       "    <tr>\n",
       "      <th>541907</th>\n",
       "      <td>12680.0</td>\n",
       "      <td>2011-12-09</td>\n",
       "      <td>16.60</td>\n",
       "    </tr>\n",
       "    <tr>\n",
       "      <th>541908</th>\n",
       "      <td>12680.0</td>\n",
       "      <td>2011-12-09</td>\n",
       "      <td>14.85</td>\n",
       "    </tr>\n",
       "  </tbody>\n",
       "</table>\n",
       "</div>"
      ],
      "text/plain": [
       "        CustomerID InvoiceDate  Total_Sales\n",
       "541904     12680.0  2011-12-09        10.20\n",
       "541905     12680.0  2011-12-09        12.60\n",
       "541906     12680.0  2011-12-09        16.60\n",
       "541907     12680.0  2011-12-09        16.60\n",
       "541908     12680.0  2011-12-09        14.85"
      ]
     },
     "execution_count": 54,
     "metadata": {},
     "output_type": "execute_result"
    }
   ],
   "source": [
    "online.tail()"
   ]
  },
  {
   "cell_type": "markdown",
   "id": "9e142bc8",
   "metadata": {},
   "source": [
    "### RFM "
   ]
  },
  {
   "cell_type": "markdown",
   "id": "825bb670",
   "metadata": {},
   "source": [
    "RFM is a customer segmentation technique used by businesses to understand customer behavior and identify different customer groups based on their transactional data. \n",
    "\n",
    "It stands for Recency, Frequency, and Monetary, which are the key metrics used in RFM. Additionally, some implementations of RFM may include the \"Time\" metric (RFMT) to consider the customer's overall tenure(kullanım süresi) with the business.\n",
    "\n",
    "Components of RFM:\n",
    "\n",
    "1.<b>Recency (R) :</b> (En son ne zaman alışveriş yaptı ?)\n",
    "* How recently did the customer make a purchase?\n",
    "* End of period date - last transaction day\n",
    "* Customers with lower recency values are considered more active and engaged, while those with higher recency values are less engaged or haven't interacted with the business in a while.\n",
    "\n",
    "2.<b>Frequency (F):</b> (Belirlenen zaman diliminde ne sıklıkta alışveriş yaptı ?)\n",
    "\n",
    "* Number of transactions or purchases made by a customer within a specific period of time.\n",
    "* \"How often does the customer make purchases?\"\n",
    "* Customers with higher frequency values are more loyal and engaged with the business, while those with lower frequency values may be occasional buyers.\n",
    "\n",
    "3.<b>Time (T):</b>\n",
    "\n",
    "* Observation period end date - first transaction data\n",
    "\n",
    "4.<b>Monetary:</b>\n",
    "\n",
    "* How much does the customer spend?\n",
    "* Customers with higher monetary values are considered high-value or more profitable for the business."
   ]
  },
  {
   "cell_type": "code",
   "execution_count": 56,
   "id": "483fe49d",
   "metadata": {},
   "outputs": [
    {
     "data": {
      "text/html": [
       "<div>\n",
       "<style scoped>\n",
       "    .dataframe tbody tr th:only-of-type {\n",
       "        vertical-align: middle;\n",
       "    }\n",
       "\n",
       "    .dataframe tbody tr th {\n",
       "        vertical-align: top;\n",
       "    }\n",
       "\n",
       "    .dataframe thead th {\n",
       "        text-align: right;\n",
       "    }\n",
       "</style>\n",
       "<table border=\"1\" class=\"dataframe\">\n",
       "  <thead>\n",
       "    <tr style=\"text-align: right;\">\n",
       "      <th></th>\n",
       "      <th>frequency</th>\n",
       "      <th>recency</th>\n",
       "      <th>T</th>\n",
       "      <th>monetary_value</th>\n",
       "    </tr>\n",
       "    <tr>\n",
       "      <th>CustomerID</th>\n",
       "      <th></th>\n",
       "      <th></th>\n",
       "      <th></th>\n",
       "      <th></th>\n",
       "    </tr>\n",
       "  </thead>\n",
       "  <tbody>\n",
       "    <tr>\n",
       "      <th>12346.0</th>\n",
       "      <td>0.0</td>\n",
       "      <td>0.0</td>\n",
       "      <td>325.0</td>\n",
       "      <td>0.000000</td>\n",
       "    </tr>\n",
       "    <tr>\n",
       "      <th>12347.0</th>\n",
       "      <td>6.0</td>\n",
       "      <td>365.0</td>\n",
       "      <td>367.0</td>\n",
       "      <td>599.701667</td>\n",
       "    </tr>\n",
       "    <tr>\n",
       "      <th>12348.0</th>\n",
       "      <td>3.0</td>\n",
       "      <td>283.0</td>\n",
       "      <td>358.0</td>\n",
       "      <td>301.480000</td>\n",
       "    </tr>\n",
       "    <tr>\n",
       "      <th>12349.0</th>\n",
       "      <td>0.0</td>\n",
       "      <td>0.0</td>\n",
       "      <td>18.0</td>\n",
       "      <td>0.000000</td>\n",
       "    </tr>\n",
       "    <tr>\n",
       "      <th>12350.0</th>\n",
       "      <td>0.0</td>\n",
       "      <td>0.0</td>\n",
       "      <td>310.0</td>\n",
       "      <td>0.000000</td>\n",
       "    </tr>\n",
       "    <tr>\n",
       "      <th>12352.0</th>\n",
       "      <td>6.0</td>\n",
       "      <td>260.0</td>\n",
       "      <td>296.0</td>\n",
       "      <td>368.256667</td>\n",
       "    </tr>\n",
       "    <tr>\n",
       "      <th>12353.0</th>\n",
       "      <td>0.0</td>\n",
       "      <td>0.0</td>\n",
       "      <td>204.0</td>\n",
       "      <td>0.000000</td>\n",
       "    </tr>\n",
       "    <tr>\n",
       "      <th>12354.0</th>\n",
       "      <td>0.0</td>\n",
       "      <td>0.0</td>\n",
       "      <td>232.0</td>\n",
       "      <td>0.000000</td>\n",
       "    </tr>\n",
       "    <tr>\n",
       "      <th>12355.0</th>\n",
       "      <td>0.0</td>\n",
       "      <td>0.0</td>\n",
       "      <td>214.0</td>\n",
       "      <td>0.000000</td>\n",
       "    </tr>\n",
       "    <tr>\n",
       "      <th>12356.0</th>\n",
       "      <td>2.0</td>\n",
       "      <td>303.0</td>\n",
       "      <td>325.0</td>\n",
       "      <td>269.905000</td>\n",
       "    </tr>\n",
       "  </tbody>\n",
       "</table>\n",
       "</div>"
      ],
      "text/plain": [
       "            frequency  recency      T  monetary_value\n",
       "CustomerID                                           \n",
       "12346.0           0.0      0.0  325.0        0.000000\n",
       "12347.0           6.0    365.0  367.0      599.701667\n",
       "12348.0           3.0    283.0  358.0      301.480000\n",
       "12349.0           0.0      0.0   18.0        0.000000\n",
       "12350.0           0.0      0.0  310.0        0.000000\n",
       "12352.0           6.0    260.0  296.0      368.256667\n",
       "12353.0           0.0      0.0  204.0        0.000000\n",
       "12354.0           0.0      0.0  232.0        0.000000\n",
       "12355.0           0.0      0.0  214.0        0.000000\n",
       "12356.0           2.0    303.0  325.0      269.905000"
      ]
     },
     "execution_count": 56,
     "metadata": {},
     "output_type": "execute_result"
    }
   ],
   "source": [
    "# transform transactional data into summary data(frequency, recency, age(t), monetary)\n",
    "\n",
    "life_time_summary_data = summary_data_from_transaction_data(online,\n",
    "                                                            customer_id_col='CustomerID',\n",
    "                                                            datetime_col='InvoiceDate',\n",
    "                                                            monetary_value_col=\"Total_Sales\",\n",
    "                                                            observation_period_end=\"2011-12-09\")\n",
    "\n",
    "life_time_summary_data.head(10)"
   ]
  },
  {
   "cell_type": "code",
   "execution_count": 65,
   "id": "6325e8be",
   "metadata": {},
   "outputs": [
    {
     "name": "stdout",
     "output_type": "stream",
     "text": [
      "count    4339.000000\n",
      "mean        2.864024\n",
      "std         5.952745\n",
      "min         0.000000\n",
      "25%         0.000000\n",
      "50%         1.000000\n",
      "75%         3.000000\n",
      "max       131.000000\n",
      "Name: frequency, dtype: float64\n"
     ]
    }
   ],
   "source": [
    "print(life_time_summary_data[\"frequency\"].describe())"
   ]
  },
  {
   "cell_type": "code",
   "execution_count": 69,
   "id": "93d50425",
   "metadata": {},
   "outputs": [
    {
     "data": {
      "image/png": "[encoded data removed]",
      "text/plain": [
       "<Figure size 1200x500 with 1 Axes>"
      ]
     },
     "metadata": {},
     "output_type": "display_data"
    }
   ],
   "source": [
    "plt.figure(figsize=(12, 5))\n",
    "\n",
    "sns.histplot(life_time_summary_data[\"frequency\"])\n",
    "\n",
    "plt.title(\"Frequency distribution of customers\")\n",
    "\n",
    "plt.show()"
   ]
  },
  {
   "cell_type": "code",
   "execution_count": 95,
   "id": "23e4ea92",
   "metadata": {},
   "outputs": [
    {
     "name": "stdout",
     "output_type": "stream",
     "text": [
      "Percentage of customers purchase the item only once: % 35.7\n"
     ]
    }
   ],
   "source": [
    "# calculate how many customers purchased item only once.\n",
    "\n",
    "def one_time(summary_data, frequency_column):\n",
    "    \n",
    "    buyers_percentage = np.round(sum(summary_data[frequency_column] == 0) / len(summary_data) * 100, 2)\n",
    "    \n",
    "    return buyers_percentage\n",
    "\n",
    "print(\"Percentage of customers purchase the item only once: %\", one_time(life_time_summary_data, \"frequency\"))"
   ]
  },
  {
   "cell_type": "markdown",
   "id": "471a4476",
   "metadata": {},
   "source": [
    "### BG/NBD Model"
   ]
  },
  {
   "cell_type": "markdown",
   "id": "a775d9ec",
   "metadata": {},
   "source": [
    "The BG/NBD model, also known as the Beta Geometric / Negative Binomial Distribution model, is a probabilistic model used in customer lifetime value(CLV) analysis and customer churn prediction. \n",
    "\n",
    "It is used to predict future customer behavior and estimate the expected number of future transactions for individual customers. It is assumes that customers' purchase behaviors follow a certain pattern, characterized by two main components :\n",
    "\n",
    "1. <b>Probability of Being Active(P):</b>\n",
    "* The model assumes that customers have a probability of being \"active\" at any given point in time. This probability follows a Geometric Distribution, which models the number of trials required before a success(a purchase) occurs.\n",
    "\n",
    "\n",
    "2. <b>Purchase Frequency(λ):</b>\n",
    "* The purchase frequency represents the average number of transactions made by an active customer in a given time period. It follows a Gamma distribution, which models the number of events occurring in a fixed interval of time.\n",
    "\n",
    "-----\n",
    "<b>Mathematical :</b>\n",
    "\n",
    "Probability of being active <b>(P)</b> at time t:\n",
    "\n",
    "        * P = 1 - (1 + λ) ^ (-α) * (1 + λ/μ) ^ (-μ).\n",
    "        \n",
    "Expected number of future transactions within time period T( Observation period end date - first transaction data ):\n",
    "\n",
    "        * E[Tx] = λ * ( 1 - (1 + λ)^(-α) ) / ( α + μ )\n",
    "        \n",
    "- <b>λ(lambda)</b> : The estimated purchase frequency, average number of transactions made by an active customer in a given time period. It follows a Gamma distribution.\n",
    "\n",
    "\n",
    "- <b>α (alpha)</b> : The shape parameter of the Geometric distribution, representing the probability of being active in a time unit. It determines how quickly the probability of being active decreases over time.\n",
    "\n",
    "\n",
    "- <b>μ (mu)</b> : The dropout(churn) rate, which represents the probability that an active customer becomes inactive and stops making purchases.\n",
    "\n",
    "\n",
    "- <b>T</b> : Specific time period T (expected number of future transactions within T time period. )\n",
    "        \n",
    "The BG/NBD model is often used in conjunction with other models like the Gamma-Gamma model to estimate the expected average transaction value(monetary value) per customer.\n",
    "\n",
    "The BG/NBD model also considers customer dropouts or churn through the \"Dropout\" parameter (μ) which represents the probability that an active customer becomes inactive and stops making purchases."
   ]
  },
  {
   "cell_type": "code",
   "execution_count": 97,
   "id": "476a9876",
   "metadata": {},
   "outputs": [
    {
     "name": "stdout",
     "output_type": "stream",
     "text": [
      "<lifetimes.BetaGeoFitter: fitted with 4339 subjects, a: 0.00, alpha: 68.89, b: 6.75, r: 0.83>\n"
     ]
    }
   ],
   "source": [
    "# Frequency/Recency Analysis using the BG/NBD model\n",
    "\n",
    "bfg = BetaGeoFitter(penalizer_coef=0.0)\n",
    "\n",
    "bfg.fit(life_time_summary_data[\"frequency\"], life_time_summary_data[\"recency\"], life_time_summary_data[\"T\"])\n",
    "\n",
    "print(bfg)"
   ]
  },
  {
   "cell_type": "code",
   "execution_count": 98,
   "id": "b23b6224",
   "metadata": {},
   "outputs": [
    {
     "data": {
      "text/html": [
       "<div>\n",
       "<style scoped>\n",
       "    .dataframe tbody tr th:only-of-type {\n",
       "        vertical-align: middle;\n",
       "    }\n",
       "\n",
       "    .dataframe tbody tr th {\n",
       "        vertical-align: top;\n",
       "    }\n",
       "\n",
       "    .dataframe thead th {\n",
       "        text-align: right;\n",
       "    }\n",
       "</style>\n",
       "<table border=\"1\" class=\"dataframe\">\n",
       "  <thead>\n",
       "    <tr style=\"text-align: right;\">\n",
       "      <th></th>\n",
       "      <th>coef</th>\n",
       "      <th>se(coef)</th>\n",
       "      <th>lower 95% bound</th>\n",
       "      <th>upper 95% bound</th>\n",
       "    </tr>\n",
       "  </thead>\n",
       "  <tbody>\n",
       "    <tr>\n",
       "      <th>r</th>\n",
       "      <td>0.826433</td>\n",
       "      <td>0.026780</td>\n",
       "      <td>0.773944</td>\n",
       "      <td>0.878922</td>\n",
       "    </tr>\n",
       "    <tr>\n",
       "      <th>alpha</th>\n",
       "      <td>68.890678</td>\n",
       "      <td>2.611055</td>\n",
       "      <td>63.773011</td>\n",
       "      <td>74.008345</td>\n",
       "    </tr>\n",
       "    <tr>\n",
       "      <th>a</th>\n",
       "      <td>0.003443</td>\n",
       "      <td>0.010347</td>\n",
       "      <td>-0.016837</td>\n",
       "      <td>0.023722</td>\n",
       "    </tr>\n",
       "    <tr>\n",
       "      <th>b</th>\n",
       "      <td>6.749363</td>\n",
       "      <td>22.412933</td>\n",
       "      <td>-37.179985</td>\n",
       "      <td>50.678711</td>\n",
       "    </tr>\n",
       "  </tbody>\n",
       "</table>\n",
       "</div>"
      ],
      "text/plain": [
       "            coef   se(coef)  lower 95% bound  upper 95% bound\n",
       "r       0.826433   0.026780         0.773944         0.878922\n",
       "alpha  68.890678   2.611055        63.773011        74.008345\n",
       "a       0.003443   0.010347        -0.016837         0.023722\n",
       "b       6.749363  22.412933       -37.179985        50.678711"
      ]
     },
     "execution_count": 98,
     "metadata": {},
     "output_type": "execute_result"
    }
   ],
   "source": [
    "bfg.summary"
   ]
  },
  {
   "cell_type": "markdown",
   "id": "5853c7ae",
   "metadata": {},
   "source": [
    "`a` : Alpha parameter(shape parameter / gamma parameter) of the BG/NBD model. It models the variability in customers' purchase behaviours. Higher values of a imply more heterogeneity among customers, meaning some customers are more active and make more frequent purchases than others.\n",
    "\n",
    "`alpha` : Parameter related to the probability of being active in the Geometric distribution.\n",
    "\n",
    "`b` : Beta parameter of the BG/NBD model. The b parameter represents the heterogeneity in the purchase frequency among customers. It models the variability in the number of transactions made by active customers. Higher values of b imply greater variability in the purchase frequency among customers.\n",
    "\n",
    "`r` : Related to the probability of dropout(churn) in the model."
   ]
  },
  {
   "cell_type": "markdown",
   "id": "50a96bbd",
   "metadata": {},
   "source": [
    "### Frequency-Recency matrix"
   ]
  },
  {
   "cell_type": "code",
   "execution_count": 102,
   "id": "f9b2de22",
   "metadata": {
    "scrolled": false
   },
   "outputs": [
    {
     "data": {
      "image/png": "[encoded data removed]",
      "text/plain": [
       "<Figure size 1200x800 with 2 Axes>"
      ]
     },
     "metadata": {},
     "output_type": "display_data"
    }
   ],
   "source": [
    "plt.figure(figsize = (12, 8))\n",
    "\n",
    "plot_frequency_recency_matrix(bfg)\n",
    "\n",
    "plt.show()"
   ]
  },
  {
   "cell_type": "markdown",
   "id": "21dcb2ea",
   "metadata": {},
   "source": [
    "### How to interpret this visualization"
   ]
  },
  {
   "cell_type": "markdown",
   "id": "8a35afab",
   "metadata": {},
   "source": [
    "1. <b>High Recency, Low Frequency (Bottom-Left):</b>\n",
    "Customers in this segment have made few transactions (low frequency), and it has been a long time since their last transaction (high recency). They are the least engaged and are less likely to make future purchases.\n",
    "\n",
    "\n",
    "2. <b>High Recency, High Frequency (Bottom-Right):</b>\n",
    "Customers in this segment have made many transactions (high frequency), but it has been a long time since their last transaction (high recency). They are engaged but may be at risk of becoming inactive (churn).\n",
    "\n",
    "\n",
    "3. <b>Low Recency, Low Frequency (Top-Left):</b>\n",
    "Customers in this segment have made few transactions (low frequency), and it has not been long since their last transaction (low recency). They are infrequent buyers who recently made a purchase and might become more engaged if nurtured.\n",
    "\n",
    "\n",
    "4. <b>Low Recency, High Frequency (Top-Right):</b>\n",
    "Customers in this segment have made many transactions (high frequency), and it has not been long since their last transaction (low recency). They are the most engaged and loyal customers who are likely to make future purchases."
   ]
  },
  {
   "cell_type": "markdown",
   "id": "8e4cd426",
   "metadata": {},
   "source": [
    "### Probability Alive matrix"
   ]
  },
  {
   "cell_type": "code",
   "execution_count": 105,
   "id": "036f6e9b",
   "metadata": {},
   "outputs": [
    {
     "data": {
      "image/png": "[encoded data removed]",
      "text/plain": [
       "<Figure size 1200x800 with 2 Axes>"
      ]
     },
     "metadata": {},
     "output_type": "display_data"
    }
   ],
   "source": [
    "plt.figure(figsize = (12, 8))\n",
    "\n",
    "plot_probability_alive_matrix(bfg)\n",
    "\n",
    "plt.show()"
   ]
  },
  {
   "cell_type": "markdown",
   "id": "ec90eaf4",
   "metadata": {},
   "source": [
    "It provides insights the probability of customers being \"alive\" or still active (i.e., making purchases) at different points in time since their last transaction.\n",
    "\n",
    "The x-axis represents \"Recency\" (time since the customer's last transaction), and the y-axis represents \"Frequency\" (number of transactions made by the customer).\n",
    "\n",
    "The cells in the heatmap are color-coded, and the color intensity represents the probability of a customer being \"alive\" or still active for different combinations of frequency and recency.\n",
    "\n",
    "The brighter the color, the higher the probability of a customer being alive, indicating a higher likelihood of making future purchases."
   ]
  },
  {
   "cell_type": "markdown",
   "id": "ea58fcb1",
   "metadata": {},
   "source": [
    "1. <b>High Recency, Low Frequency (Bottom-Left):</b>\n",
    "Customers in this segment have made few transactions (low frequency), and it has been a long time since their last transaction (high recency). The probability of these customers being alive and making future purchases is relatively low.\n",
    "\n",
    "\n",
    "2. <b>High Recency, High Frequency (Bottom-Right):</b>\n",
    "Customers in this segment have made many transactions (high frequency), but it has been a long time since their last transaction (high recency). The probability of these customers being alive is moderate, indicating some engagement, but they may be at risk of becoming inactive (churn).\n",
    "\n",
    "\n",
    "3. <b>Low Recency, Low Frequency (Top-Left):</b>\n",
    "Customers in this segment have made few transactions (low frequency), and it has not been long since their last transaction (low recency). The probability of these customers being alive and making future purchases is moderate, indicating some potential for further engagement.\n",
    "\n",
    "\n",
    "4. <b>Low Recency, High Frequency (Top-Right):</b>\n",
    "Customers in this segment have made many transactions (high frequency), and it has not been long since their last transaction (low recency). The probability of these customers being alive and making future purchases is high, indicating strong engagement and loyalty."
   ]
  },
  {
   "cell_type": "code",
   "execution_count": null,
   "id": "203b20d2",
   "metadata": {},
   "outputs": [],
   "source": []
  }
 ],
 "metadata": {
  "kernelspec": {
   "display_name": "Python 3 (ipykernel)",
   "language": "python",
   "name": "python3"
  },
  "language_info": {
   "codemirror_mode": {
    "name": "ipython",
    "version": 3
   },
   "file_extension": ".py",
   "mimetype": "text/x-python",
   "name": "python",
   "nbconvert_exporter": "python",
   "pygments_lexer": "ipython3",
   "version": "3.9.13"
  }
 },
 "nbformat": 4,
 "nbformat_minor": 5
}
